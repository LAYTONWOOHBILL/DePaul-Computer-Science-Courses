{
 "cells": [
  {
   "cell_type": "markdown",
   "metadata": {},
   "source": [
    "## CSC 555: Mining Big Data\n",
    "### Assignment 1 (due Sunday, January 19th) "
   ]
  },
  {
   "cell_type": "markdown",
   "metadata": {},
   "source": [
    "#### a)\tCompute (you can use any tool to compute answers in this part – but if you do not know to perform this computation, please talk to me about prerequisites):"
   ]
  },
  {
   "attachments": {
    "image.png": {
     "image/png": "[encoded data removed]"
    }
   },
   "cell_type": "markdown",
   "metadata": {},
   "source": [
    "![image.png](attachment:image.png)"
   ]
  },
  {
   "cell_type": "code",
   "execution_count": 26,
   "metadata": {},
   "outputs": [
    {
     "name": "stdout",
     "output_type": "stream",
     "text": [
      "1024\n",
      "1024\n",
      "32768\n",
      "37\n",
      "2\n",
      "16\n",
      "5\n"
     ]
    }
   ],
   "source": [
    "print(2**10)\n",
    "print(4**5)\n",
    "print(8**5)\n",
    "print(837 % 100)\n",
    "print(842 % 20)\n",
    "print(16 % 37)\n",
    "print(37 % 16)"
   ]
  },
  {
   "cell_type": "markdown",
   "metadata": {},
   "source": [
    "#### b)\tGiven vectors V1 = (1, 2, 3) and V2 = (2, 1, 2) and a 3x3 matrix M = [(2, 1, 3), (1, 2, 2), (1, 0, 2)], compute:"
   ]
  },
  {
   "cell_type": "markdown",
   "metadata": {},
   "source": [
    "V2 – V1 \n",
    "\n",
    "V1 + V1 \n",
    "\n",
    "|V1| (vector length, not the number of dimensions)\n",
    "\n",
    "|V2| \n",
    "\n",
    "M * V2 (matrix times vector, transpose it as necessary)\n",
    "\n",
    "M * M (or M2)\n",
    "\n",
    "M3"
   ]
  },
  {
   "cell_type": "code",
   "execution_count": 27,
   "metadata": {},
   "outputs": [],
   "source": [
    "import numpy as np"
   ]
  },
  {
   "cell_type": "code",
   "execution_count": 28,
   "metadata": {},
   "outputs": [],
   "source": [
    "V1=np.array([1,2,3])\n",
    "V2=np.array([2,1,2])"
   ]
  },
  {
   "cell_type": "code",
   "execution_count": 29,
   "metadata": {},
   "outputs": [
    {
     "data": {
      "text/plain": [
       "array([ 1, -1, -1])"
      ]
     },
     "execution_count": 29,
     "metadata": {},
     "output_type": "execute_result"
    }
   ],
   "source": [
    "V2-V1"
   ]
  },
  {
   "cell_type": "code",
   "execution_count": 30,
   "metadata": {},
   "outputs": [
    {
     "data": {
      "text/plain": [
       "array([2, 4, 6])"
      ]
     },
     "execution_count": 30,
     "metadata": {},
     "output_type": "execute_result"
    }
   ],
   "source": [
    "V1+V1"
   ]
  },
  {
   "cell_type": "code",
   "execution_count": 31,
   "metadata": {},
   "outputs": [
    {
     "data": {
      "text/plain": [
       "3.7416573867739413"
      ]
     },
     "execution_count": 31,
     "metadata": {},
     "output_type": "execute_result"
    }
   ],
   "source": [
    "np.linalg.norm(V1)"
   ]
  },
  {
   "cell_type": "code",
   "execution_count": 32,
   "metadata": {},
   "outputs": [
    {
     "data": {
      "text/plain": [
       "3.0"
      ]
     },
     "execution_count": 32,
     "metadata": {},
     "output_type": "execute_result"
    }
   ],
   "source": [
    "np.linalg.norm(V2)"
   ]
  },
  {
   "cell_type": "code",
   "execution_count": 33,
   "metadata": {},
   "outputs": [
    {
     "data": {
      "text/plain": [
       "array([[2, 1, 3],\n",
       "       [1, 2, 2],\n",
       "       [1, 0, 2]])"
      ]
     },
     "execution_count": 33,
     "metadata": {},
     "output_type": "execute_result"
    }
   ],
   "source": [
    "M = np.array([[2, 1, 3], [1, 2, 2], [1, 0, 2]])\n",
    "M"
   ]
  },
  {
   "cell_type": "code",
   "execution_count": 34,
   "metadata": {},
   "outputs": [
    {
     "data": {
      "text/plain": [
       "array([11,  8,  6])"
      ]
     },
     "execution_count": 34,
     "metadata": {},
     "output_type": "execute_result"
    }
   ],
   "source": [
    "M.dot(V2)"
   ]
  },
  {
   "cell_type": "code",
   "execution_count": 35,
   "metadata": {},
   "outputs": [
    {
     "data": {
      "text/plain": [
       "array([[4, 1, 9],\n",
       "       [1, 4, 4],\n",
       "       [1, 0, 4]])"
      ]
     },
     "execution_count": 35,
     "metadata": {},
     "output_type": "execute_result"
    }
   ],
   "source": [
    "M**2"
   ]
  },
  {
   "cell_type": "code",
   "execution_count": 36,
   "metadata": {},
   "outputs": [
    {
     "data": {
      "text/plain": [
       "array([[ 8,  1, 27],\n",
       "       [ 1,  8,  8],\n",
       "       [ 1,  0,  8]])"
      ]
     },
     "execution_count": 36,
     "metadata": {},
     "output_type": "execute_result"
    }
   ],
   "source": [
    "M**3"
   ]
  },
  {
   "cell_type": "markdown",
   "metadata": {},
   "source": [
    "#### c)\tSuppose we are flipping a coin with Head (H) and Tail (T) sides. The coin is not balanced with 0.6 probability of H coming up (and 0.4 of T). Compute the probabilities of getting"
   ]
  },
  {
   "cell_type": "markdown",
   "metadata": {},
   "source": [
    "HTHT\n",
    "\n",
    "THTT\n",
    "\n",
    "Exactly 1 Head out of a sequence of 4 coin flips.\n",
    "\n",
    "Exactly 1 Tail out of sequence of 4 coin flips."
   ]
  },
  {
   "cell_type": "code",
   "execution_count": 37,
   "metadata": {},
   "outputs": [],
   "source": [
    "H=0.6\n",
    "T=0.4"
   ]
  },
  {
   "cell_type": "code",
   "execution_count": 38,
   "metadata": {},
   "outputs": [
    {
     "data": {
      "text/plain": [
       "0.0576"
      ]
     },
     "execution_count": 38,
     "metadata": {},
     "output_type": "execute_result"
    }
   ],
   "source": [
    "H*T*H*T"
   ]
  },
  {
   "cell_type": "code",
   "execution_count": 39,
   "metadata": {},
   "outputs": [
    {
     "data": {
      "text/plain": [
       "0.038400000000000004"
      ]
     },
     "execution_count": 39,
     "metadata": {},
     "output_type": "execute_result"
    }
   ],
   "source": [
    "T*H*T*T"
   ]
  },
  {
   "cell_type": "code",
   "execution_count": 40,
   "metadata": {},
   "outputs": [
    {
     "data": {
      "text/plain": [
       "0.15360000000000001"
      ]
     },
     "execution_count": 40,
     "metadata": {},
     "output_type": "execute_result"
    }
   ],
   "source": [
    "(H*T*T*T)*4"
   ]
  },
  {
   "cell_type": "code",
   "execution_count": 41,
   "metadata": {},
   "outputs": [
    {
     "data": {
      "text/plain": [
       "0.3456"
      ]
     },
     "execution_count": 41,
     "metadata": {},
     "output_type": "execute_result"
    }
   ],
   "source": [
    "(H*H*H*T)*4"
   ]
  },
  {
   "cell_type": "markdown",
   "metadata": {},
   "source": [
    "####  d)\tConsider a database schema consisting of two tables, Employee (ID, Name, Address), Project (PID, Name, Deadline), Assign(EID, PID, Date). \n",
    "\n",
    "    Assign.EID is a foreign key referencing employee’s ID and Assign.PID is a foreign key referencing the project."
   ]
  },
  {
   "cell_type": "code",
   "execution_count": 64,
   "metadata": {},
   "outputs": [
    {
     "data": {
      "text/plain": [
       "<sqlite3.Cursor at 0x109b4d880>"
      ]
     },
     "execution_count": 64,
     "metadata": {},
     "output_type": "execute_result"
    }
   ],
   "source": [
    "import sqlite3\n",
    "conn = sqlite3.connect('CSC555HW01.db')\n",
    "c = conn.cursor()\n",
    "\n",
    "Employeetable = '''CREATE TABLE Employee(\n",
    "ID Number(10),\n",
    "Name VARCHAR(40),\n",
    "Address VARCHAR(40)\n",
    ");'''\n",
    "\n",
    "Projectetable = '''CREATE TABLE Project(\n",
    "PID Number(10),\n",
    "Name VARCHAR(40),\n",
    "Deadline VARCHAR(40)\n",
    ");'''\n",
    "\n",
    "Assignetable = '''CREATE TABLE Assign(\n",
    "EID Number(10),\n",
    "PID Number(40),\n",
    "Date VARCHAR(40)\n",
    ");'''\n",
    "\n",
    "c.execute('DROP TABLE IF EXISTS Employee');\n",
    "c.execute('DROP TABLE IF EXISTS Project');\n",
    "c.execute('DROP TABLE IF EXISTS Assign');\n",
    "c.execute(Employeetable);\n",
    "c.execute(Projectetable);\n",
    "c.execute(Assignetable)\n",
    "\n",
    "\n"
   ]
  },
  {
   "cell_type": "code",
   "execution_count": 65,
   "metadata": {},
   "outputs": [],
   "source": [
    "data= [\"INSERT INTO Employee Values(1, 'a', '111 N. Wabash Avenue')\",\n",
    "\"INSERT INTO Employee Values(2, 'b', '112 N. Wabash Avenue')\",\n",
    "\"INSERT INTO Employee Values(3, 'c', '113 N. Wabash Avenue')\",\n",
    "\"INSERT INTO Employee Values(4, 'd', '114 N. Wabash Avenue')\",\n",
    "\"INSERT INTO Project Values(10, 'aa', '1/2')\",\n",
    " \"INSERT INTO Project Values(11, 'ab', '1/2')\",\n",
    " \"INSERT INTO Project Values(14, 'ac', '1/4')\",\n",
    " \"INSERT INTO Assign Values(1, 10, '1/1')\",\n",
    "  \"INSERT INTO Assign Values(2, 14, '1/3')\"]\n",
    "for i in data:\n",
    "    c.execute(i)"
   ]
  },
  {
   "cell_type": "code",
   "execution_count": 66,
   "metadata": {},
   "outputs": [
    {
     "name": "stdout",
     "output_type": "stream",
     "text": [
      "[(1, 'a', '111 N. Wabash Avenue'), (2, 'b', '112 N. Wabash Avenue'), (3, 'c', '113 N. Wabash Avenue'), (4, 'd', '114 N. Wabash Avenue')]\n",
      "[(10, 'aa', '1/2'), (11, 'ab', '1/2'), (14, 'ac', '1/4')]\n",
      "[(1, 10, '1/1'), (2, 14, '1/3')]\n",
      "[]\n"
     ]
    }
   ],
   "source": [
    "print(c.execute('Select * from Employee').fetchall())\n",
    "print(c.execute('Select * from Project').fetchall())\n",
    "print(c.execute('Select * from Assign').fetchall())\n",
    "print(c.execute(\"INSERT INTO Assign Values(3, 14, '1/3')\").fetchall())"
   ]
  },
  {
   "cell_type": "markdown",
   "metadata": {},
   "source": [
    "i.\tFind projects that are not assigned to any employees (PID and Name of the project)."
   ]
  },
  {
   "cell_type": "code",
   "execution_count": 67,
   "metadata": {},
   "outputs": [
    {
     "name": "stdout",
     "output_type": "stream",
     "text": [
      "[(11, 'ab')]\n"
     ]
    }
   ],
   "source": [
    "print(c.execute('''Select PID, Name from Project where PID Not in (SELECT PID FROM Assign)''').fetchall())"
   ]
  },
  {
   "cell_type": "markdown",
   "metadata": {},
   "source": [
    "ii.\tFor each date, found how many assignments were made that day."
   ]
  },
  {
   "cell_type": "code",
   "execution_count": 68,
   "metadata": {},
   "outputs": [
    {
     "name": "stdout",
     "output_type": "stream",
     "text": [
      "[(1,), (2,)]\n"
     ]
    }
   ],
   "source": [
    "print(c.execute('''Select count(*) from Assign GROUP BY Date''').fetchall())"
   ]
  },
  {
   "cell_type": "markdown",
   "metadata": {},
   "source": [
    "iii.\tFind all projects that have fewer than 3 employees assigned to them (note that this should include 2, 1 and 0 in order to be correct)"
   ]
  },
  {
   "cell_type": "code",
   "execution_count": 69,
   "metadata": {},
   "outputs": [
    {
     "name": "stdout",
     "output_type": "stream",
     "text": [
      "[(10, 'aa', '1/2', 1, 10, '1/1', 1), (14, 'ac', '1/4', 2, 14, '1/3', 2)]\n"
     ]
    }
   ],
   "source": [
    "print(c.execute('''Select *, count(*)  from Project, Assign\n",
    "where Project.PID = Assign.PID\n",
    "Group by Assign.PID\n",
    "Having count(*) < 3 ''').fetchall())"
   ]
  },
  {
   "cell_type": "markdown",
   "metadata": {},
   "source": [
    "#### e) Mining of Massive Datasets, Exercise 1.3.3  \n",
    "Justify your answer.\n",
    "\n",
    "Exercise 1.3.3 : Suppose hash-keys are drawn from the population of all non- negative integers that are multiples of some constant c, and hash function h(x) is x mod 15. For what values of c will h be a suitable hash function, i.e., a large random choice of hash-keys will be divided roughly equally into buckets?\n"
   ]
  },
  {
   "cell_type": "markdown",
   "metadata": {},
   "source": [
    "#### Ans:\n",
    "\n",
    "    The c should be the number that divide 15 and the remainder will have 15 differents in loop. For this code, we can said c interger should be like the prime number to 15, such as 2, 4, 7, 8, 11, 13, 14, 16 .....etc"
   ]
  },
  {
   "cell_type": "code",
   "execution_count": 24,
   "metadata": {},
   "outputs": [
    {
     "name": "stdout",
     "output_type": "stream",
     "text": [
      "{1: 15, 2: 15, 3: 5, 4: 15, 5: 3, 6: 5, 7: 15, 8: 15, 9: 5, 10: 3, 11: 15, 12: 5, 13: 15, 14: 15, 15: 1, 16: 15}\n",
      "\n",
      "\n",
      "{1: [0, 1, 2, 3, 4, 5, 6, 7, 8, 9, 10, 11, 12, 13, 14], 2: [0, 2, 4, 6, 8, 10, 12, 14, 1, 3, 5, 7, 9, 11, 13], 3: [0, 3, 6, 9, 12], 4: [0, 4, 8, 12, 1, 5, 9, 13, 2, 6, 10, 14, 3, 7, 11], 5: [0, 5, 10], 6: [0, 6, 12, 3, 9], 7: [0, 7, 14, 6, 13, 5, 12, 4, 11, 3, 10, 2, 9, 1, 8], 8: [0, 8, 1, 9, 2, 10, 3, 11, 4, 12, 5, 13, 6, 14, 7], 9: [0, 9, 3, 12, 6], 10: [0, 10, 5], 11: [0, 11, 7, 3, 14, 10, 6, 2, 13, 9, 5, 1, 12, 8, 4], 12: [0, 12, 9, 6, 3], 13: [0, 13, 11, 9, 7, 5, 3, 1, 14, 12, 10, 8, 6, 4, 2], 14: [0, 14, 13, 12, 11, 10, 9, 8, 7, 6, 5, 4, 3, 2, 1], 15: [0], 16: [0, 1, 2, 3, 4, 5, 6, 7, 8, 9, 10, 11, 12, 13, 14]}\n"
     ]
    }
   ],
   "source": [
    "c={}\n",
    "d={}\n",
    "for num in range(1,17):\n",
    "    a=[]\n",
    "    for i in range(30):\n",
    "        r=(num*i)%15\n",
    "        if r in a:\n",
    "            pass\n",
    "        else:\n",
    "            a.append(r)\n",
    "    c[num]=len(a)\n",
    "    d[num]=a\n",
    "print(c)\n",
    "print('\\n')\n",
    "print(d)"
   ]
  },
  {
   "cell_type": "markdown",
   "metadata": {},
   "source": [
    "#### f)\tDescribe how you would implement a MapReduce job consisting of Map and Reduce description. You do not have to write code or even pseudo-code.  Just describe, in your own words, what the Map and Reduce tasks are going to do.  Map task reads the input file and produces (key, value) pairs.  Reduce task takes a list of (key, value) pairs for each key and combines all values for each key.\n",
    "\n",
    "Please remember that Map operates on individual blocks and Reduce on individual keys with a set of values. Thus, for Mapper you need to state what your code does given a block of data (i.e., for each block, not for the whole file) and for Reduce you need to state what your reducer does for each key (without being able to see other keys). \n",
    "For a data file that contains the following columns: (ID, First, Last, Grade)\n",
    "\n",
    "i.\tFor each first name, find the GPA (grade point average) of each student, i.e.,\n",
    "SELECT First, AVG(Grade) FROM Student GROUP BY First."
   ]
  },
  {
   "cell_type": "markdown",
   "metadata": {},
   "source": [
    "    Mapper will identfiy the student first name in key and grade in value, than Reducer matching all the same first name student and average the value which is grade and return the key, first name and value, agerage grade."
   ]
  },
  {
   "cell_type": "markdown",
   "metadata": {},
   "source": [
    "ii.\tFor each full student name, find the best grade, i.e.,\n",
    "SELECT First, Last, MAX(Grade) FROM Student GROUP BY First, Last."
   ]
  },
  {
   "cell_type": "markdown",
   "metadata": {},
   "source": [
    "    Mapper will identfiy the student first and last name in key and grade in value, than Reducer matching all the same first and last name student and max of the value which is grade and return the key, first and last name and value, max grade."
   ]
  }
 ],
 "metadata": {
  "kernelspec": {
   "display_name": "Python 3",
   "language": "python",
   "name": "python3"
  },
  "language_info": {
   "codemirror_mode": {
    "name": "ipython",
    "version": 3
   },
   "file_extension": ".py",
   "mimetype": "text/x-python",
   "name": "python",
   "nbconvert_exporter": "python",
   "pygments_lexer": "ipython3",
   "version": "3.7.1"
  }
 },
 "nbformat": 4,
 "nbformat_minor": 2
}
